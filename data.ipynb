{
 "cells": [
  {
   "cell_type": "code",
   "execution_count": 1,
   "id": "cb2f0e08",
   "metadata": {},
   "outputs": [],
   "source": [
    "import numpy as np\n",
    "import pandas as pd\n",
    "import scipy.linalg\n",
    "import os\n",
    "import time\n",
    "import sklearn.covariance\n",
    "import pickle\n",
    "from collections import defaultdict\n",
    "\n",
    "import Util"
   ]
  },
  {
   "cell_type": "code",
   "execution_count": null,
   "id": "5edd81fa",
   "metadata": {},
   "outputs": [],
   "source": [
    "util_loaded_data = Util.load_data()\n",
    "ret, ret_nonan, univ, tradeidx, dates = util_loaded_data"
   ]
  },
  {
   "cell_type": "code",
   "execution_count": 9,
   "id": "3cb6989e",
   "metadata": {},
   "outputs": [],
   "source": [
    "if not os.path.exists('./pastRets') and os.path.exists('./outRets'):\n",
    "    os.mkdir('pastRets')\n",
    "    os.mkdir('outRets')"
   ]
  },
  {
   "cell_type": "code",
   "execution_count": null,
   "id": "d7179ed8",
   "metadata": {},
   "outputs": [],
   "source": [
    "def save_past_information(T, N, util_loaded_data, save_KT=True):\n",
    "    ret, ret_nonan, univ, tradeidx, dates = util_loaded_data\n",
    "    pastRets = []\n",
    "    KT_covs = []\n",
    "    \n",
    "    for h in range(len(univ)):\n",
    "        print(h, end = ' ')\n",
    "        pastRet = Util.get_past_period(h, T, N, univ, tradeidx, ret)\n",
    "        pastRetFileName = \"pastRets/{}_{}_{}_pastRet.pkl\".format(T, N, h)\n",
    "        with open(pastRetFileName, 'wb') as f:\n",
    "            pickle.dump(pastRet, f)\n",
    "        pastRets.append(pastRet)\n",
    "        \n",
    "        if save_KT:\n",
    "            KT_cov = Util.kendall_cov(pastRet)\n",
    "            KT_cov_file_name =  \"pastRets/{}_{}_{}_KTcov.pkl\".format(T, N, h)\n",
    "            with open(KT_cov_file_name, 'wb') as f:\n",
    "                pickle.dump(KT_cov, f)\n",
    "            KT_covs.append(KT_cov)\n",
    "    \n",
    "    with open(\"pastRets/{}_{}_pastRets.pkl\".format(T,N), 'wb') as f:\n",
    "        pickle.dump(pastRets, f)\n",
    "\n",
    "    if save_KT:\n",
    "        with open(\"pastRets/{}_{}_KTcovs.pkl\".format(T,N), 'wb') as f:\n",
    "            pickle.dump(KT_covs, f)"
   ]
  },
  {
   "cell_type": "code",
   "execution_count": null,
   "id": "850dffb2",
   "metadata": {},
   "outputs": [],
   "source": [
    "for T in [25, 50, 100, 200, 500, 1260]:\n",
    "    for N in [25, 50, 100, 200, 500, 1000]:\n",
    "        save_past_information(T, N, util_loaded_data)  # due to lack of performance in our exemple we took only 3 sample"
   ]
  },
  {
   "cell_type": "code",
   "execution_count": null,
   "id": "f5fcd13f",
   "metadata": {},
   "outputs": [],
   "source": [
    "# Saves the out of sample returns for evaluation time.\n",
    "def save_outrets(N, util_loaded_data, P=1):\n",
    "    ret, ret_nonan, univ, tradeidx, dates = util_loaded_data\n",
    "    all_outrets = []\n",
    "    for h in range(360):\n",
    "        outret = get_invest_period(h, P, N, univ, tradeidx, ret)\n",
    "        all_outrets.append(outret)\n",
    "    with open('outRets/{}_outRets.pkl'.format(N), 'wb') as f:\n",
    "        pickle.dump(all_outrets, f)\n",
    "\n",
    "for N in [25, 50, 100, 200, 500, 1000]:# modifie to get the correspond of the sets sample\n",
    "    save_outrets(N, util_loaded_data)   "
   ]
  }
 ],
 "metadata": {
  "kernelspec": {
   "display_name": "Python 3 (ipykernel)",
   "language": "python",
   "name": "python3"
  },
  "language_info": {
   "codemirror_mode": {
    "name": "ipython",
    "version": 3
   },
   "file_extension": ".py",
   "mimetype": "text/x-python",
   "name": "python",
   "nbconvert_exporter": "python",
   "pygments_lexer": "ipython3",
   "version": "3.11.7"
  }
 },
 "nbformat": 4,
 "nbformat_minor": 5
}
